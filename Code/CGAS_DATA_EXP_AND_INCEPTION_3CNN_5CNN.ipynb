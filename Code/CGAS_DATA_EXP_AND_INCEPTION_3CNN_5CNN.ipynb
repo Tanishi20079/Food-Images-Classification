{
  "nbformat": 4,
  "nbformat_minor": 0,
  "metadata": {
    "colab": {
      "name": "CGAS_DATA_EXP_AND_INCEPTION_3CNN_5CNN.ipynb",
      "private_outputs": true,
      "provenance": [],
      "collapsed_sections": [
        "7NhcCmblVPOZ",
        "LIvjazwJUSjE",
        "U5jGdBQS2KOT",
        "chAFPvdawvrZ",
        "aIqZIAV9JG6A"
      ]
    },
    "kernelspec": {
      "display_name": "Python 3",
      "name": "python3"
    },
    "accelerator": "GPU"
  },
  "cells": [
    {
      "cell_type": "markdown",
      "metadata": {
        "id": "tkN0Z0nKV571"
      },
      "source": [
        "#Group-30\n",
        "Members:</br>\n",
        "1.Ashi Sahu(MT20051)</br>\n",
        "2.Tanishi Srivastava(MT20079)</br>\n",
        "3.Lokesh Malkani(MT20076)\n",
        "\n"
      ]
    },
    {
      "cell_type": "markdown",
      "metadata": {
        "id": "7NhcCmblVPOZ"
      },
      "source": [
        "#Import"
      ]
    },
    {
      "cell_type": "code",
      "metadata": {
        "id": "o0ajEJBaRGEd"
      },
      "source": [
        "########################################################################################################################\n",
        "#_____________________________________________________Import Section___________________________________________ \n",
        "########################################################################################################################\n",
        "import tensorflow as tf\n",
        "from tensorflow import keras\n",
        "from keras.models import Sequential\n",
        "from keras.layers import Dense, Flatten, Conv2D, MaxPooling2D, Dropout\n",
        "from tensorflow.keras import layers\n",
        "from keras.utils import to_categorical\n",
        "import numpy as np\n",
        "import matplotlib.pyplot as plt\n",
        "plt.style.use('fivethirtyeight')\n",
        "import os\n",
        "import cv2\n",
        "import scipy.io as sio\n",
        "import ntpath\n",
        "from numpy import argmax\n",
        "from sklearn.preprocessing import LabelEncoder\n",
        "from sklearn.preprocessing import OneHotEncoder\n",
        "from tensorflow.keras.applications.inception_v3 import InceptionV3"
      ],
      "execution_count": null,
      "outputs": []
    },
    {
      "cell_type": "code",
      "metadata": {
        "id": "mJAEV2aV2iXB"
      },
      "source": [
        "# from google.colab import drive\n",
        "# drive.mount('/content/drive')"
      ],
      "execution_count": null,
      "outputs": []
    },
    {
      "cell_type": "markdown",
      "metadata": {
        "id": "Ze_TnUR1t81J"
      },
      "source": [
        "**Working on Train data**\n",
        "\n",
        "\n",
        "*   Data Exploration\n",
        "*   Visualizing the data-\n",
        "    *  frequency distribution\n",
        "    *  category wise distribution\n",
        "*   Building model\n",
        "*   Training model\n",
        "*   Evaluating the model\n",
        "\n",
        "\n",
        "\n"
      ]
    },
    {
      "cell_type": "code",
      "metadata": {
        "id": "aS8j1QlYRYLU"
      },
      "source": [
        "#\n",
        "########################################################################################################################\n",
        "#_____________________________________________________Fetching The Training Data from Directory___________________________________________ \n",
        "########################################################################################################################\n",
        "\n",
        "\n",
        "train_dir='/content/drive/MyDrive/CGAS_Project/training_cat'\n",
        "subdirs = [x[0] for x in os.walk(train_dir)]  \n",
        "\n",
        "\n",
        "# test_dir = '/content/drive/MyDrive/Colab Notebooks/Cgas project/testing_cat'\n",
        "# subdirs = [x[0] for x in os.walk(test_dir)]  "
      ],
      "execution_count": null,
      "outputs": []
    },
    {
      "cell_type": "code",
      "metadata": {
        "id": "ml2v_NOa9gGe"
      },
      "source": [
        "subdirs[1:]"
      ],
      "execution_count": null,
      "outputs": []
    },
    {
      "cell_type": "code",
      "metadata": {
        "id": "bwMJ9WY2R1Mr"
      },
      "source": [
        "# train = []\n",
        "# y_train = []\n",
        "# for subdir in subdirs:                                                                                            \n",
        "#         files = os.walk(subdir).__next__()[2]                                                                             \n",
        "#         if (len(files) > 0):                                                                                          \n",
        "#             for file in files:                                                                                        \n",
        "#                 f1 = os.path.join(subdir, file)\n",
        "#                 #print(f1)\n",
        "#                 head, tail = ntpath.split(f1)\n",
        "#                 #print(tail)\n",
        "#                 name = tail.split(\"_\")\n",
        "#                 #print(name[0])\n",
        "#                 label = name[0]\n",
        "#                 img = cv2.imread(f1)\n",
        "#                 img = cv2.cvtColor(img,cv2.COLOR_RGB2BGR)\n",
        "#                 if img is not None:\n",
        "#                   train.append(img)\n",
        "#                   y_train.append(label) \n",
        "# train"
      ],
      "execution_count": null,
      "outputs": []
    },
    {
      "cell_type": "code",
      "metadata": {
        "id": "8lYZEnlmTzfD"
      },
      "source": [
        "#FOR TEST DATA\n",
        "\n",
        "# test = []\n",
        "# y_test = []\n",
        "\n",
        "# for subdir in subdirs:                                                                                            \n",
        "#         files = os.walk(subdir).__next__()[2]                                                                             \n",
        "#         if (len(files) > 0):                                                                                          \n",
        "#             for file in files:                                                                                        \n",
        "#                 f1 = os.path.join(subdir, file)\n",
        "#                 #print(f1)\n",
        "#                 head, tail = ntpath.split(f1)\n",
        "#                 #print(tail)\n",
        "#                 name = tail.split(\"_\")\n",
        "#                 #print(name[0])\n",
        "#                 label = name[0]\n",
        "#                 img = cv2.imread(f1)\n",
        "#                 img = cv2.cvtColor(img,cv2.COLOR_RGB2BGR)\n",
        "#                 if img is not None:\n",
        "#                   test.append(img)\n",
        "#                   y_test.append(label) "
      ],
      "execution_count": null,
      "outputs": []
    },
    {
      "cell_type": "code",
      "metadata": {
        "id": "f4-o6N7fSCar"
      },
      "source": [
        "#\n",
        "########################################################################################################################\n",
        "#_____________________________________________________Loading Data Section into the Dataframe___________________________________________ \n",
        "########################################################################################################################\n",
        "# train_data = {'X_train': train ,'y_train':y_train}\n",
        "# sio.savemat('/content/drive/MyDrive/CGAS_Project/train_data11.mat', train_data)\n",
        "# sio.savemat('/content/drive/MyDrive/Colab Notebooks/Cgas project/test_data11.mat', test_data)\n",
        "train_data = sio.loadmat('/content/drive/MyDrive/CGAS_Project/train_data11.mat')\n",
        "test_data=sio.loadmat('/content/drive/MyDrive/CGAS_Project/test_data11.mat')"
      ],
      "execution_count": null,
      "outputs": []
    },
    {
      "cell_type": "markdown",
      "metadata": {
        "id": "LIvjazwJUSjE"
      },
      "source": [
        "#**Train & Test Data Exploration**"
      ]
    },
    {
      "cell_type": "code",
      "metadata": {
        "id": "pnC4td9v4RO6"
      },
      "source": [
        "\n",
        "\n",
        "train = train_data['X_train']\n",
        "y_train = train_data['y_train']\n",
        "test = test_data['X_test']\n",
        "y_test = test_data['y_test']\n",
        "len(y_train)"
      ],
      "execution_count": null,
      "outputs": []
    },
    {
      "cell_type": "code",
      "metadata": {
        "id": "GK5Dm8vlU6CR"
      },
      "source": [
        "np.unique(y_train)"
      ],
      "execution_count": null,
      "outputs": []
    },
    {
      "cell_type": "code",
      "metadata": {
        "id": "0YQtJ5MgnFRH"
      },
      "source": [
        "plt.figure(figsize=(20,20))\n",
        "for i in range(100):\n",
        "    plt.subplot(10,10,i+1)\n",
        "    plt.xticks([])\n",
        "    plt.yticks([])\n",
        "    plt.grid(False) \n",
        "    plt.imshow(train[i])\n",
        "    plt.title(y_train[i])\n",
        "plt.show()"
      ],
      "execution_count": null,
      "outputs": []
    },
    {
      "cell_type": "code",
      "metadata": {
        "id": "ELQZcOK3-9lc"
      },
      "source": [
        "freq_train = {}\n",
        "for y in y_train:\n",
        "  if y not in freq_train:\n",
        "    freq_train[y] = 1\n",
        "\n",
        "  else:\n",
        "    freq_train[y] += 1"
      ],
      "execution_count": null,
      "outputs": []
    },
    {
      "cell_type": "code",
      "metadata": {
        "id": "BROdRqbY0vIA"
      },
      "source": [
        "freq_train"
      ],
      "execution_count": null,
      "outputs": []
    },
    {
      "cell_type": "markdown",
      "metadata": {
        "id": "pRmMXgvN1S8x"
      },
      "source": [
        "**Frequency Distribution of Train Data**"
      ]
    },
    {
      "cell_type": "code",
      "metadata": {
        "id": "lQJ4SMKw0xGP"
      },
      "source": [
        "\n",
        "########################################################################################################################\n",
        "#_____________________________________________________Frequency Distribution Of Train Data___________________________________________ \n",
        "########################################################################################################################\n",
        "\n",
        "labels = list(freq_train.keys()) \n",
        "values1 = list(freq_train.values()) \n",
        "fig = plt.figure(figsize = (15, 5)) \n",
        "# creating the bar plot \n",
        "plt.bar(labels, values1, color ='orange',  \n",
        "        width = 0.4) \n",
        "  \n",
        "plt.xlabel(\"Lables of Train data\") \n",
        "plt.ylabel(\"No. of images\") \n",
        "plt.title(\"Label Distribution of Train Data\") \n",
        "plt.show() "
      ],
      "execution_count": null,
      "outputs": []
    },
    {
      "cell_type": "markdown",
      "metadata": {
        "id": "1d3jSeah1lWA"
      },
      "source": [
        "**Category distribution in Pie Chart**"
      ]
    },
    {
      "cell_type": "code",
      "metadata": {
        "id": "cjnArSgh05mA"
      },
      "source": [
        "\n",
        "########################################################################################################################\n",
        "#_____________________________________________________Cateogories Distribution Of Various CLasses___________________________________________ \n",
        "########################################################################################################################\n",
        "\n",
        "\n",
        "fig = plt.figure(figsize = (15, 5)) \n",
        "explode = (0.0, 0.0, 0.2, 0.0, 0.0, 0.1,0.0,0.1,0.0,0.3,0.0) \n",
        "wp = { 'linewidth' : 1, 'edgecolor' : \"black\" } \n",
        "colors = ( \"orange\", \"cyan\", \"brown\", \n",
        "          \"grey\", \"coral\", \"beige\",\"green\",\"blue\",\"yellow\",\"pink\",\"red\")\n",
        "wedges, texts, autotexts = plt.pie(values1,labels = labels,explode = explode,autopct='%1.2f',startangle=90,colors = colors,wedgeprops = wp,shadow = True)\n",
        "plt.legend(labels, \n",
        "          title =\"Food Categories\", \n",
        "          loc =\"center left\", \n",
        "          bbox_to_anchor =(1.25, 0, 1, 1)) \n",
        "plt.setp(autotexts, size = 8, weight =\"bold\")\n",
        "plt.title(\"Category distribution in Train Data\")\n",
        "plt.show()"
      ],
      "execution_count": null,
      "outputs": []
    },
    {
      "cell_type": "code",
      "metadata": {
        "id": "6gNvsgCDnLJR"
      },
      "source": [
        "# Normalize pixel values to be between 0 and 1\n",
        "train = np.array(train)\n",
        "train = train / 255.0\n",
        "test = np.array(test)\n",
        "test = test/255.0"
      ],
      "execution_count": null,
      "outputs": []
    },
    {
      "cell_type": "code",
      "metadata": {
        "id": "ip6djpVGnQLv"
      },
      "source": [
        "plt.figure(figsize=(15,15))\n",
        "for i in range(100):\n",
        "    plt.subplot(10,10,i+1)\n",
        "    plt.xticks([])\n",
        "    plt.yticks([])\n",
        "    plt.grid(False) \n",
        "    plt.imshow(train[i])\n",
        "    plt.title(y_train[i])\n",
        "plt.show()"
      ],
      "execution_count": null,
      "outputs": []
    },
    {
      "cell_type": "markdown",
      "metadata": {
        "id": "X1MSUVqTUiqC"
      },
      "source": [
        "Test Data Exploration"
      ]
    },
    {
      "cell_type": "code",
      "metadata": {
        "id": "61w5WKKBUhiS"
      },
      "source": [
        "#Test Part Here\n",
        "\n",
        "test = test_data['X_test']\n",
        "y_test = test_data['y_test']"
      ],
      "execution_count": null,
      "outputs": []
    },
    {
      "cell_type": "code",
      "metadata": {
        "id": "s7N8nhpJnYdd"
      },
      "source": [
        "plt.figure(figsize=(20,20))\n",
        "for i in range(100):\n",
        "    plt.subplot(10,10,i+1)\n",
        "    plt.xticks([])\n",
        "    plt.yticks([])\n",
        "    plt.grid(False) \n",
        "    plt.imshow(test[i])\n",
        "    plt.title(y_test[i])\n",
        "plt.show()"
      ],
      "execution_count": null,
      "outputs": []
    },
    {
      "cell_type": "code",
      "metadata": {
        "id": "ZYlNlWKlUok8"
      },
      "source": [
        "freq_test = {}\n",
        "for y in y_test:\n",
        "  if y not in freq_test:\n",
        "    freq_test[y] = 1\n",
        "\n",
        "  else:\n",
        "    freq_test[y] += 1"
      ],
      "execution_count": null,
      "outputs": []
    },
    {
      "cell_type": "code",
      "metadata": {
        "id": "UgiRQ56DUvG6"
      },
      "source": [
        "labels = list(freq_test.keys()) \n",
        "values = list(freq_test.values()) \n",
        "fig = plt.figure(figsize = (15, 5)) \n",
        "# creating the bar plot \n",
        "plt.bar(labels, values, color ='maroon',  \n",
        "        width = 0.4) \n",
        "  \n",
        "plt.xlabel(\"Lables of Test data\") \n",
        "plt.ylabel(\"No. of images\") \n",
        "plt.title(\"Label Distribution of Test Data\") \n",
        "plt.show() "
      ],
      "execution_count": null,
      "outputs": []
    },
    {
      "cell_type": "code",
      "metadata": {
        "id": "lBm-icdVUu4J"
      },
      "source": [
        "fig = plt.figure(figsize = (15, 5)) \n",
        "explode = (0.0, 0.0, 0.2, 0.0, 0.0, 0.1,0.0,0.1,0.0,0.3,0.0) \n",
        "wp = { 'linewidth' : 1, 'edgecolor' : \"black\" } \n",
        "colors = ( \"orange\", \"cyan\", \"brown\", \n",
        "          \"grey\", \"coral\", \"beige\",\"green\",\"blue\",\"yellow\",\"pink\",\"red\")\n",
        "wedges, texts, autotexts = plt.pie(values,labels = labels,explode = explode,autopct='%1.2f',startangle=90,colors = colors,wedgeprops = wp,shadow = True)\n",
        "plt.legend(labels, \n",
        "          title =\"Food Categories\", \n",
        "          loc =\"center left\", \n",
        "          bbox_to_anchor =(1.25, 0, 1, 1)) \n",
        "plt.setp(autotexts, size = 8, weight =\"bold\")\n",
        "plt.title(\"Category distribution in Test Data\")\n",
        "plt.show()"
      ],
      "execution_count": null,
      "outputs": []
    },
    {
      "cell_type": "code",
      "metadata": {
        "id": "UgsrDfoDnbJp"
      },
      "source": [
        "\n",
        "########################################################################################################################\n",
        "#_____________________________________________________Encoding the Data(Images to one hot encoding)___________________________________________ \n",
        "########################################################################################################################\n",
        "\n",
        "\n",
        "\n",
        "label_encoder = LabelEncoder()\n",
        "int_encoded = label_encoder.fit_transform(y_train)\n",
        "test_int_encoded = label_encoder.fit_transform(y_test)\n",
        "int_encoded"
      ],
      "execution_count": null,
      "outputs": []
    },
    {
      "cell_type": "code",
      "metadata": {
        "id": "Cqa963gVndoK"
      },
      "source": [
        "# binary encode\n",
        "onehot_encoder = OneHotEncoder(sparse=False)\n",
        "int_encoded = int_encoded.reshape(len(int_encoded), 1)\n",
        "train_encoded = onehot_encoder.fit_transform(int_encoded)\n",
        "print(train_encoded)\n",
        "print(\"test encoded: \")\n",
        "test_int_encoded = test_int_encoded.reshape(len(test_int_encoded), 1)\n",
        "test_encoded = onehot_encoder.fit_transform(test_int_encoded)\n",
        "print(test_encoded)"
      ],
      "execution_count": null,
      "outputs": []
    },
    {
      "cell_type": "code",
      "metadata": {
        "id": "bwW3VO4E8WlX"
      },
      "source": [
        "train.shape"
      ],
      "execution_count": null,
      "outputs": []
    },
    {
      "cell_type": "markdown",
      "metadata": {
        "id": "U5jGdBQS2KOT"
      },
      "source": [
        "#**Inception Model Implementation**\n",
        "\n",
        "---\n",
        "\n",
        "\n",
        "**Defining Model Architecture**"
      ]
    },
    {
      "cell_type": "code",
      "metadata": {
        "id": "30tdvlVsni9t"
      },
      "source": [
        "\n",
        "########################################################################################################################\n",
        "#________________________Creating the  BASE MOdel ANd Encapsulating it in Pretrained___________________________________#\n",
        "########################################################################################################################\n",
        "\n",
        "\n",
        "base_model = InceptionV3(input_shape = (128,128,3), include_top = False, weights = 'imagenet')\n",
        "for layer in base_model.layers:\n",
        "    layer.trainable = False"
      ],
      "execution_count": null,
      "outputs": []
    },
    {
      "cell_type": "code",
      "metadata": {
        "id": "ZxXNP9ijobw6"
      },
      "source": [
        "from tensorflow.keras import layers\n",
        "from tensorflow.keras.optimizers import RMSprop,Adam,SGD\n",
        "\n",
        "x=layers.Conv2D(128, (2,2), activation='relu', input_shape=(128, 128, 3))(base_model.output)\n",
        "x=layers.Conv2D(64, (1,1), activation='relu')(x)\n",
        "x=layers.Conv2D(128, (1,1), activation='relu')(x)\n",
        "x=layers.MaxPooling2D((1,1), strides=2)(x)\n",
        "x=layers.Conv2D(32, (1,1), activation='relu')(x)\n",
        "x=layers.MaxPooling2D((1,1), strides=2)(x)\n",
        "\n",
        "x = layers.Flatten()(x)\n",
        "x = layers.Dense(1024, activation='relu')(x)\n",
        "x = layers.Dropout(0.2)(x)\n",
        "x = layers.Dense(11, activation='softmax')(x)\n",
        "\n",
        "model = tf.keras.models.Model(base_model.input, x)\n",
        "\n",
        "model.compile(optimizer ='adam', loss = 'categorical_crossentropy', metrics = ['acc'])\n",
        "model.summary()"
      ],
      "execution_count": null,
      "outputs": []
    },
    {
      "cell_type": "code",
      "metadata": {
        "id": "XN0dZGul2x0P"
      },
      "source": [
        "########################################################################################################################\n",
        "#____________________________________________________________Training The Model___________________________________#\n",
        "########################################################################################################################\n",
        "\n",
        "\n",
        "hist=model.fit(train, train_encoded, batch_size=500, epochs=50, validation_data=(test, test_encoded))"
      ],
      "execution_count": null,
      "outputs": []
    },
    {
      "cell_type": "code",
      "metadata": {
        "id": "ZKa0tLcg7LBT"
      },
      "source": [
        "########################################################################################################################\n",
        "#____________________________________________________________Saving The Model___________________________________#\n",
        "########################################################################################################################\n",
        "\n",
        "model.save(\"/content/drive/MyDrive/CGAS_Project/inception_model.pb\")\n",
        "accuracy = model.evaluate(x=test,y=test_encoded,batch_size=256)\n",
        "print(\"Test loss:\",accuracy[0])\n",
        "print(\"Test accuracy: \",accuracy[1])\n"
      ],
      "execution_count": null,
      "outputs": []
    },
    {
      "cell_type": "code",
      "metadata": {
        "id": "EFF4exd92nqN"
      },
      "source": [
        "########################################################################################################################\n",
        "#____________________________________________________________Accuracy Plot Of the MOdel___________________________________#\n",
        "########################################################################################################################\n",
        "\n",
        "plt.plot(hist.history['acc'])\n",
        "plt.plot(hist.history['val_acc'])\n",
        "plt.title('model accuracy')\n",
        "plt.ylabel('accuracy')\n",
        "plt.xlabel('epoch')\n",
        "plt.legend(['train', 'test'], loc='upper left')\n",
        "plt.show()"
      ],
      "execution_count": null,
      "outputs": []
    },
    {
      "cell_type": "code",
      "metadata": {
        "id": "w_kxivpm5d8V"
      },
      "source": [
        "########################################################################################################################\n",
        "#____________________________________________________________Loss Plot Of the Model___________________________________#\n",
        "########################################################################################################################\n",
        "\n",
        "plt.plot(hist.history['loss'])\n",
        "plt.plot(hist.history['val_loss'])\n",
        "plt.title('model loss')\n",
        "plt.ylabel('loss')\n",
        "plt.xlabel('epoch')\n",
        "plt.legend(['train', 'test'], loc='upper left')\n",
        "plt.show()"
      ],
      "execution_count": null,
      "outputs": []
    },
    {
      "cell_type": "code",
      "metadata": {
        "id": "erP3t4qe5lc5"
      },
      "source": [
        "########################################################################################################################\n",
        "#____________________________________________________________Predicting on arbitrary 6 images__________________________________#\n",
        "########################################################################################################################\n",
        "images = []\n",
        "images.append('/content/drive/MyDrive/CGAS_Project/testing_cat/Vegetable_Fruit/Vegetable_Fruit_1.jpg')\n",
        "images.append('/content/drive/MyDrive/CGAS_Project/testing_cat/Dessert/Dessert_4.jpg')\n",
        "images.append('/content/drive/MyDrive/CGAS_Project/testing_cat/Noodles_Pasta/Noodles_Pasta_41.jpg')\n",
        "images.append('/content/drive/MyDrive/CGAS_Project/testing_cat/Soup/Soup_3.jpg')\n",
        "images.append('/content/drive/MyDrive/CGAS_Project/testing_cat/Seafood/Seafood_8.jpg')\n",
        "images.append('/content/drive/MyDrive/CGAS_Project/testing_cat/Dessert/Dessert_24.jpg')"
      ],
      "execution_count": null,
      "outputs": []
    },
    {
      "cell_type": "code",
      "metadata": {
        "id": "bgMadqhF5mc-"
      },
      "source": [
        "########################################################################################################################\n",
        "#__________________________________________________Testing the Prediction by the model_________________________________#\n",
        "########################################################################################################################\n",
        "from PIL import Image\n",
        "from matplotlib import pyplot as plt\n",
        "import cv2\n",
        "import numpy as np\n",
        "j = 0\n",
        "plt.figure(figsize=(10,10))\n",
        "for i in images:\n",
        "  img = cv2.imread(i)\n",
        "  img = cv2.cvtColor(img,cv2.COLOR_RGB2BGR)\n",
        "  newsize = (128, 128,3)\n",
        "  img.resize(newsize)\n",
        "  img = np.reshape(img, ((-1,128, 128, 3)))\n",
        "  y = model.predict(img)\n",
        "  inverted = label_encoder.inverse_transform([argmax(y)]) \n",
        "  img = cv2.imread(i)\n",
        "  img = cv2.cvtColor(img,cv2.COLOR_RGB2BGR)\n",
        "  plt.subplot(3,3,j+1)\n",
        "  j = j + 1\n",
        "  plt.imshow(img)\n",
        "  plt.xticks([])\n",
        "  plt.yticks([])\n",
        "  plt.title(inverted)\n",
        "  plt.grid(False)\n",
        "plt.show()"
      ],
      "execution_count": null,
      "outputs": []
    },
    {
      "cell_type": "markdown",
      "metadata": {
        "id": "chAFPvdawvrZ"
      },
      "source": [
        "# **5 Layer CNN Model Implementation**\n",
        "________________________________________\n",
        "**Defining Model Architecture**"
      ]
    },
    {
      "cell_type": "code",
      "metadata": {
        "id": "9-y-CFcPwtPu"
      },
      "source": [
        "########################################################################################################################\n",
        "#__________________________________________________Model Architecture_________________________________#\n",
        "########################################################################################################################\n",
        "\n",
        "\n",
        "# defining 5 layer CNN the model architecture\n",
        "model = Sequential()\n",
        "model.add(layers.Conv2D(16, (3, 3), activation='relu', input_shape=(128, 128, 3), padding = 'same'))\n",
        "#model.add(BatchNormalization())\n",
        "model.add(layers.MaxPooling2D((2, 2)))\n",
        "model.add(Dropout(0.1))\n",
        "\n",
        "model.add(layers.Conv2D(16, (3, 3), activation='relu', padding = 'same'))\n",
        "#model.add(BatchNormalization())\n",
        "model.add(layers.MaxPooling2D((2, 2)))\n",
        "model.add(Dropout(0.25))\n",
        "\n",
        "\n",
        "model.add(layers.Conv2D(32, (3, 3), activation='relu',padding = 'same'))\n",
        "#model.add(BatchNormalization())\n",
        "model.add(layers.MaxPooling2D((2, 2)))\n",
        "model.add(Dropout(0.1))\n",
        "\n",
        "model.add(layers.Conv2D(64, (3, 3), activation='relu',padding = 'same'))\n",
        "#model.add(BatchNormalization())\n",
        "model.add(layers.MaxPooling2D((2, 2)))\n",
        "model.add(Dropout(0.1))\n",
        "\n",
        "model.add(layers.Conv2D(128, (3, 3), activation='relu',padding = 'same'))\n",
        "#model.add(BatchNormalization())\n",
        "model.add(layers.MaxPooling2D((2, 2)))\n",
        "model.add(Dropout(0.1))\n",
        "\n",
        "model.add(layers.Flatten())\n",
        "model.add(layers.Dense(11, activation='softmax'))"
      ],
      "execution_count": null,
      "outputs": []
    },
    {
      "cell_type": "code",
      "metadata": {
        "id": "zgQamjvSwtMW"
      },
      "source": [
        "########################################################################################################################\n",
        "#__________________________________________________Model Architecture Summarizing_________________________________#\n",
        "########################################################################################################################\n",
        "\n",
        "\n",
        "model.compile(loss='categorical_crossentropy', optimizer='adam',metrics=['accuracy'])\n",
        "model.summary()"
      ],
      "execution_count": null,
      "outputs": []
    },
    {
      "cell_type": "code",
      "metadata": {
        "id": "Wp2ztpdwxiak"
      },
      "source": [
        "########################################################################################################################\n",
        "#__________________________________________________Train  the Model___________________________________________________#\n",
        "########################################################################################################################\n",
        "\n",
        "\n",
        "hist=model.fit(train, train_encoded, batch_size=500, epochs=50, validation_data=(test, test_encoded))"
      ],
      "execution_count": null,
      "outputs": []
    },
    {
      "cell_type": "code",
      "metadata": {
        "id": "DCzz030Lxvyp"
      },
      "source": [
        "########################################################################################################################\n",
        "#__________________________________________________Saving  the Model___________________________________________________#\n",
        "########################################################################################################################\n",
        "\n",
        "model.save(\"/content/drive/MyDrive/CGAS_Project/5layer_CNN_model.pb\")\n",
        "accuracy = model.evaluate(x=test,y=test_encoded,batch_size=256)\n",
        "print(\"Test loss:\",accuracy[0])\n",
        "print(\"Test accuracy: \",accuracy[1])\n"
      ],
      "execution_count": null,
      "outputs": []
    },
    {
      "cell_type": "code",
      "metadata": {
        "id": "xEcpVpxIx7za"
      },
      "source": [
        "########################################################################################################################\n",
        "#_________________________________________________Plotting the Accuracy Curve__________________________________________#\n",
        "########################################################################################################################\n",
        "\n",
        "plt.plot(hist.history['accuracy'])\n",
        "plt.plot(hist.history['val_accuracy'])\n",
        "plt.title('model accuracy')\n",
        "plt.ylabel('accuracy')\n",
        "plt.xlabel('epoch')\n",
        "plt.legend(['train', 'test'], loc='upper left')\n",
        "plt.show()"
      ],
      "execution_count": null,
      "outputs": []
    },
    {
      "cell_type": "code",
      "metadata": {
        "id": "mRXlQ8jgyAqG"
      },
      "source": [
        "########################################################################################################################\n",
        "#__________________________________________________Plotting the Loss Curve______________________________________________#\n",
        "########################################################################################################################\n",
        "\n",
        "plt.plot(hist.history['loss'])\n",
        "plt.plot(hist.history['val_loss'])\n",
        "plt.title('model loss')\n",
        "plt.ylabel('loss')\n",
        "plt.xlabel('epoch')\n",
        "plt.legend(['train', 'test'], loc='upper left')\n",
        "plt.show()"
      ],
      "execution_count": null,
      "outputs": []
    },
    {
      "cell_type": "markdown",
      "metadata": {
        "id": "aIqZIAV9JG6A"
      },
      "source": [
        "#**3Layer CNN**"
      ]
    },
    {
      "cell_type": "code",
      "metadata": {
        "id": "wUqtLXBKJKIe"
      },
      "source": [
        "########################################################################################################################\n",
        "#__________________________________________________Architecting the Model______________________________________________#\n",
        "########################################################################################################################\n",
        "\n",
        "# defining 3 layer CNN the model architecture\n",
        "model = Sequential()\n",
        "model.add(layers.Conv2D(16, (3, 3), activation='relu', input_shape=(128, 128, 3), padding = 'same'))\n",
        "#model.add(BatchNormalization())\n",
        "model.add(layers.MaxPooling2D((2, 2)))\n",
        "#model.add(Dropout(0.1))\n",
        "\n",
        "model.add(layers.Conv2D(16, (3, 3), activation='relu', padding = 'same'))\n",
        "#model.add(BatchNormalization())\n",
        "model.add(layers.MaxPooling2D((2, 2)))\n",
        "model.add(Dropout(0.25))\n",
        "\n",
        "\n",
        "model.add(layers.Conv2D(32, (3, 3), activation='relu',padding = 'same'))\n",
        "#model.add(BatchNormalization())\n",
        "model.add(layers.MaxPooling2D((2, 2)))\n",
        "#model.add(Dropout(0.1))\n",
        "\n",
        "model.add(layers.Flatten())\n",
        "model.add(layers.Dense(11, activation='softmax'))"
      ],
      "execution_count": null,
      "outputs": []
    },
    {
      "cell_type": "code",
      "metadata": {
        "id": "3FxxHG5ZJLbc"
      },
      "source": [
        "########################################################################################################################\n",
        "#__________________________________________________Diaplaying the Model______________________________________________#\n",
        "########################################################################################################################\n",
        "\n",
        "\n",
        "model.compile(loss='categorical_crossentropy', optimizer='adam',metrics=['accuracy'])\n",
        "hist = model.fit(train, train_encoded,epochs=10, validation_data=(test, test_encoded))"
      ],
      "execution_count": null,
      "outputs": []
    },
    {
      "cell_type": "code",
      "metadata": {
        "id": "3W2x9N5cKFKa"
      },
      "source": [
        "########################################################################################################################\n",
        "#_________________________________________________Plotting the Accuracy Curve__________________________________________#\n",
        "########################################################################################################################\n",
        "\n",
        "plt.plot(hist.history['accuracy'])\n",
        "plt.plot(hist.history['val_accuracy'])\n",
        "plt.title('model accuracy')\n",
        "plt.ylabel('accuracy')\n",
        "plt.xlabel('epoch')\n",
        "plt.legend(['train', 'test'], loc='upper left')\n",
        "plt.show()"
      ],
      "execution_count": null,
      "outputs": []
    },
    {
      "cell_type": "code",
      "metadata": {
        "id": "uHK6M6Q7KMwu"
      },
      "source": [
        "########################################################################################################################\n",
        "#__________________________________________________Plotting the Loss Curve______________________________________________#\n",
        "########################################################################################################################\n",
        "\n",
        "plt.plot(hist.history['loss'])\n",
        "plt.plot(hist.history['val_loss'])\n",
        "plt.title('model loss')\n",
        "plt.ylabel('loss')\n",
        "plt.xlabel('epoch')\n",
        "plt.legend(['train', 'test'], loc='upper left')\n",
        "plt.show()"
      ],
      "execution_count": null,
      "outputs": []
    },
    {
      "cell_type": "markdown",
      "metadata": {
        "id": "5KgHnBX8VF_G"
      },
      "source": [
        "#**Comparison Of Models**:"
      ]
    },
    {
      "cell_type": "code",
      "metadata": {
        "id": "PDugigglVFrh"
      },
      "source": [
        "import matplotlib.pyplot as plt\n",
        "import numpy as np\n",
        "accuracy  = {'Resnet50' : 32.32 , 'VGG-16' : 65.99 , 'InceptionV3' : 68.18, '5-Layer CNN': 52.02 , '3-Layer CNN' : 48.61}\n",
        "loss = {'Resnet50' : 2.18 , 'VGG-16' : 1.12 , 'InceptionV3' : 2.75 , '5-Layer CNN': 1.71 , '3-Layer CNN' : 2.21}\n",
        "model = list(accuracy.keys())\n",
        "a = list(accuracy.values())\n",
        "l = list(loss.values())\n",
        "X = np.arange(5)\n",
        "fig = plt.figure()\n",
        "ax = fig.add_axes([0,0,1,1])\n",
        "ax.bar(X + 0.00, a, color = 'pink', width = 0.25,label = 'accuracy')\n",
        "ax.bar(X + 0.25, l, color = 'red', width = 0.25, label = 'loss')\n",
        "ax.set_xticks(X)\n",
        "ax.set_xticklabels(model)\n",
        "plt.legend()\n",
        "plt.title(\"Performance Comparison of models\")\n",
        "plt.xlabel(\"Model\")\n",
        "plt.show()\n"
      ],
      "execution_count": null,
      "outputs": []
    },
    {
      "cell_type": "markdown",
      "metadata": {
        "id": "svMcblYLV4v6"
      },
      "source": [
        ""
      ]
    }
  ]
}